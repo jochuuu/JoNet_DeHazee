{
 "cells": [
  {
   "cell_type": "markdown",
   "id": "5c8a0e6f",
   "metadata": {},
   "source": [
    "## Import Necessary Modules:\n",
    "\n",
    "The script starts by importing the os module for interacting with the operating system, the random module for generating random numbers, and the Image class from the PIL (Python Imaging Library) package for image manipulation. Additionally, it imports pyplot from matplotlib for plotting images.\n",
    "\n",
    "## List and Sort Contents of Directories:\n",
    "\n",
    "The script lists the contents of two directories, ./HazeFre_v0.001 and ./HaZed_v0.001, using os.listdir(). These directories presumably contain images. The contents of each directory are then sorted alphabetically using the sort() method.\n",
    "\n",
    "## Create and Clear a Directory:\n",
    "\n",
    "The script creates a new directory named test using the mkdir command executed in a shell. It then removes any existing files in this directory with rm test/*, ensuring that the test directory is empty and ready for new files. The ! character is used to run these shell commands from within the Python script, which is a feature of Jupyter notebooks and IPython environments.\n",
    "\n",
    "## Confirmation Message:\n",
    "\n",
    "Finally, the script prints \"Run Sucessfully...!\" to indicate that the above operations have been completed without any errors."
   ]
  },
  {
   "cell_type": "code",
   "execution_count": null,
   "id": "b2889218",
   "metadata": {},
   "outputs": [],
   "source": [
    "import os, random\n",
    "\n",
    "from PIL import Image\n",
    "from matplotlib import pyplot as plt\n",
    "\n",
    "clear = os.listdir('./HazeFre_v0.001')\n",
    "clear.sort()\n",
    "# print(\"Contents of 'clear' directory (sorted):\", clear)\n",
    "\n",
    "haze = os.listdir('./HaZed_v0.001')\n",
    "haze.sort()\n",
    "# print(\"Contents of 'haze' directory (sorted):\", haze)\n",
    "\n",
    "!mkdir test\n",
    "!rm test/*\n",
    "\n",
    "print(\"Run Sucessfully...!\")"
   ]
  },
  {
   "cell_type": "markdown",
   "id": "3b501780",
   "metadata": {},
   "source": [
    "## Detailed Explanation:\n",
    "\n",
    "This Python script processes and saves images from two directories, `./HazeFre_v0.001` and `./HaZed_v0.001`, into a third directory named `test`. The process is conducted in batches, iterating a specified number of times. Initially, the variable `k` is set to 20, and `l` is set to 10, representing the number of iterations. The outer loop runs `l` times, and within each iteration, an inner loop processes 20 images, ranging from `k-20` to `k`.\n",
    "\n",
    "In each inner loop iteration, the script opens an image from the `HazeFre_v0.001` directory and a corresponding image from the `HaZed_v0.001` directory using the `j`-th index from the sorted lists of filenames, `clear` and `haze`. The images are optionally displayed using Matplotlib (though the display code is commented out). The script then saves the processed images into the `test` directory with new filenames indicating their index and whether they are clean images.\n",
    "\n",
    "After processing each batch of 20 images, the variable `k` is incremented by 20 to move to the next set of images in the following iteration of the outer loop. At the end of the script, a shell command lists and counts the number of files in the `test` directory, displaying the total number of processed images. This setup ensures organized processing and saving of image pairs for further use or analysis."
   ]
  },
  {
   "cell_type": "code",
   "execution_count": null,
   "id": "dfe4b8ff",
   "metadata": {},
   "outputs": [],
   "source": [
    "k=20\n",
    "l = 10\n",
    "\n",
    "for i in range(0,l):\n",
    "    for j in range(k-20,k):\n",
    "        im_c = Image.open('./HazeFre_v0.001/'+clear[j])\n",
    "        im   = Image.open('./HaZed_v0.001/'+haze[j])\n",
    "        # plt.imshow(im_c)\n",
    "        # plt.show()\n",
    "        # plt.imshow(im)\n",
    "        # plt.show()\n",
    "        im_c.save('test/'+str(j)+'_clean.jpg')\n",
    "        im.save('test/'+str(j)+'.jpg')\n",
    "    k = k + 20\n",
    "     \n",
    "\n",
    "!ls test | wc -l"
   ]
  },
  {
   "cell_type": "markdown",
   "id": "dc86b787",
   "metadata": {},
   "source": [
    "The commands `!tar -czvf test.tar.gz test` and `!cp test.tar.gz './Project/Datasets/TestData'` are used for compressing and relocating files in a Unix-like environment, typically executed within a Jupyter notebook or similar environment where shell commands can be run.\n",
    "\n",
    "The first command, `!tar -czvf test.tar.gz test`, creates a compressed archive of the `test` directory. The `tar` utility is used with several options: `-c` to create a new archive, `-z` to compress it using gzip, `-v` to display the progress with verbose output, and `-f` to specify the filename of the archive, `test.tar.gz`. This command consolidates all files and subdirectories within `test` into a single, compressed file named `test.tar.gz`. This process helps in reducing the storage space needed and makes it easier to manage or transfer the contents as a single file.\n",
    "\n",
    "The second command, `!cp test.tar.gz './Project/Datasets/TestData'`, copies the newly created `test.tar.gz` file from the current working directory to a subdirectory named `TestData` within the `./Project/Datasets` directory. The `cp` command is used to copy files or directories, and here it moves the compressed archive to a specific location, presumably for organized storage or further use. This step ensures that the archived file is placed in a designated directory, which could be part of a larger project or dataset structure, facilitating easier access and management.\n",
    "\n",
    "Together, these commands compress a directory into a manageable archive and then relocate it to an appropriate directory, making it convenient to store or share the processed data."
   ]
  },
  {
   "cell_type": "code",
   "execution_count": null,
   "id": "4bdb1b20",
   "metadata": {},
   "outputs": [],
   "source": [
    "!tar -czvf test.tar.gz test\n",
    "!cp test.tar.gz './Project/Datasets/TestData'"
   ]
  },
  {
   "cell_type": "markdown",
   "id": "4110f859",
   "metadata": {},
   "source": [
    "The commands `!unzip -q './Project/Datasets/TestData/ITS/clear.zip' -d './content/'` and `!unzip -q './Project/Datasets/TestData/ITS/haze.zip' -d './content/'` are used to extract the contents of ZIP files into a specified directory.\n",
    "\n",
    "The `!unzip` command is employed to unzip files in a Unix-like environment, often used within Jupyter notebooks or similar interfaces. The `-q` flag stands for \"quiet\" mode, which suppresses the output of the unzip process, providing a cleaner execution without displaying the list of files being extracted.\n",
    "\n",
    "In the first command, `!unzip -q './Project/Datasets/TestData/ITS/clear.zip' -d './content/'`, the ZIP file named `clear.zip`, located in the `./Project/Datasets/TestData/ITS/` directory, is extracted into the `./content/` directory. Similarly, the second command, `!unzip -q './Project/Datasets/TestData/ITS/haze.zip' -d './content/'`, extracts another ZIP file named `haze.zip` from the same source directory into the `./content/` directory. \n",
    "\n",
    "These commands are useful for managing datasets or files that have been compressed for storage or transfer. By extracting the contents into a designated directory (`./content/`), the files are made available for further processing or analysis. This step typically follows a process where files are compressed and then later unpacked to be used in data analysis, machine learning tasks, or other computational processes."
   ]
  },
  {
   "cell_type": "code",
   "execution_count": null,
   "id": "7234453c",
   "metadata": {},
   "outputs": [],
   "source": [
    "!unzip -q './Project/Datasets/TestData/ITS/clear.zip' -d './content/'\n",
    "!unzip -q './Project/Datasets/TestData/ITS/haze.zip' -d './content/'"
   ]
  },
  {
   "cell_type": "markdown",
   "id": "1c8b74e3",
   "metadata": {},
   "source": [
    "First, the code uses `os.listdir()` to list the contents of two directories, `./content/HazeFre_v0.001` and `./content/HaZed_v0.001`, and assigns these contents to the variables `clear` and `haze`, respectively. This step retrieves the filenames of all files within these directories and stores them in the respective lists. These lists are likely used for subsequent processing of the images in these directories.\n",
    "\n",
    "Next, the `!mkdir test_its` command creates a new directory named `test_its`. This directory will be used to store processed images or other data as part of the workflow. The `!` symbol indicates that this command is executed in a shell environment, such as within a Jupyter notebook.\n",
    "\n",
    "Following this, the `!rm test_its/*` command removes all files within the `test_its` directory. The `rm` command with the `*` wildcard deletes all files in the specified directory but does not remove subdirectories. This ensures that the `test_its` directory is emptied before new files are added, which is important for avoiding conflicts or overwriting issues with existing files.\n",
    "\n",
    "In summary, this snippet prepares the workspace by listing existing files in two directories, creating a new directory for output or processing, and clearing out any pre-existing files in that directory to ensure a clean environment for new data or results."
   ]
  },
  {
   "cell_type": "code",
   "execution_count": null,
   "id": "19feffc1",
   "metadata": {},
   "outputs": [],
   "source": [
    "clear = os.listdir('./content/HazeFre_v0.001')\n",
    "haze = os.listdir('./content/HaZed_v0.001')\n",
    "\n",
    "!mkdir test_its\n",
    "!rm test_its/*"
   ]
  },
  {
   "cell_type": "markdown",
   "id": "a9884c7a",
   "metadata": {},
   "source": [
    "The provided code snippet is used to process and organize a subset of image files from two directories. Here's a detailed explanation of each step:\n",
    "\n",
    "1. **Random Selection of Images**:\n",
    "   The code begins by randomly selecting 20 image filenames from a list called `haze`. This list contains filenames of hazy images stored in a specific directory. The selection is random, ensuring that a diverse subset of images is chosen each time the code runs.\n",
    "\n",
    "2. **Processing Each Selected Image**:\n",
    "   For each of the randomly selected images, the code performs the following steps:\n",
    "   - **Opening the Hazy Image**: The hazy image is opened from its directory using its filename.\n",
    "   - **Constructing the Clean Image Filename**: The code then constructs the filename for the corresponding clean image. It extracts a numeric identifier from the hazy image’s filename and uses this identifier to create the filename for the clean image, which is stored in a different directory.\n",
    "   - **Opening the Clean Image**: The clean image is opened using the constructed filename.\n",
    "   - **Saving Processed Images**: Both the hazy and clean images are saved to a new directory named `test_its`. The filenames in this directory include an index number to distinguish them and a suffix to indicate whether they are clean or hazy images.\n",
    "\n",
    "3. **Counting the Number of Files**:\n",
    "   After processing and saving the images, the code counts and prints the total number of files in the `test_its` directory. This step verifies that the expected number of files (20) has been saved and helps confirm that the processing was completed successfully.\n",
    "\n",
    "In summary, this code randomly selects a subset of hazy images, finds and processes the corresponding clean images, saves them into a new directory, and verifies the total number of files saved."
   ]
  },
  {
   "cell_type": "code",
   "execution_count": null,
   "id": "2092df9c",
   "metadata": {},
   "outputs": [],
   "source": [
    "# Assuming 'haze' contains the filenames of the hazy images\n",
    "rhaze = random.sample(haze, 20)\n",
    "\n",
    "# Process the selected images\n",
    "for i in range(len(rhaze)):\n",
    "    # Open the hazy image\n",
    "    im = Image.open('./content/HaZed_v0.001/' + rhaze[i])\n",
    "    \n",
    "    # Construct the corresponding clean image filename\n",
    "    # Extract the number part from the hazy filename and create the clean filename\n",
    "    number = rhaze[i].split('_')[1].replace('.jpg', '')\n",
    "    clean_filename = 'HazeFree_' + number + '.jpg'\n",
    "    \n",
    "    # Open the clean image\n",
    "    im_c = Image.open('./content/HazeFre_v0.001/' + clean_filename)\n",
    "    \n",
    "    # Optionally display images (commented out)\n",
    "    # plt.imshow(im_c)\n",
    "    # plt.show()\n",
    "    # plt.imshow(im)\n",
    "    # plt.show()\n",
    "    \n",
    "    # Save the hazy and clean images in the 'test_its' directory\n",
    "    im_c.save('test_its/' + str(i) + '_clean.jpg')\n",
    "    im.save('test_its/' + str(i) + '.jpg')\n",
    "\n",
    "# Count and print the number of files in 'test_its'\n",
    "!ls test_its | wc -l \n",
    "!tar -czvf test_its.tar.gz test_its\n",
    "!cp test_its.tar.gz './Project/Datasets/TestData'"
   ]
  },
  {
   "cell_type": "code",
   "execution_count": null,
   "id": "23494135",
   "metadata": {},
   "outputs": [],
   "source": []
  }
 ],
 "metadata": {
  "kernelspec": {
   "display_name": "Python 3 (ipykernel)",
   "language": "python",
   "name": "python3"
  },
  "language_info": {
   "codemirror_mode": {
    "name": "ipython",
    "version": 3
   },
   "file_extension": ".py",
   "mimetype": "text/x-python",
   "name": "python",
   "nbconvert_exporter": "python",
   "pygments_lexer": "ipython3",
   "version": "3.10.12"
  }
 },
 "nbformat": 4,
 "nbformat_minor": 5
}
